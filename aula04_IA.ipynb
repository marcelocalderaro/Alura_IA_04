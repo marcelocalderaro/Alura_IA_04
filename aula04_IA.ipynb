{
  "nbformat": 4,
  "nbformat_minor": 0,
  "metadata": {
    "colab": {
      "provenance": [],
      "authorship_tag": "ABX9TyNfL4qezjCyP8R/5xGNE7Wk",
      "include_colab_link": true
    },
    "kernelspec": {
      "name": "python3",
      "display_name": "Python 3"
    },
    "language_info": {
      "name": "python"
    }
  },
  "cells": [
    {
      "cell_type": "markdown",
      "metadata": {
        "id": "view-in-github",
        "colab_type": "text"
      },
      "source": [
        "<a href=\"https://colab.research.google.com/github/marcelocalderaro/Alura_IA_04/blob/main/aula04_IA.ipynb\" target=\"_parent\"><img src=\"https://colab.research.google.com/assets/colab-badge.svg\" alt=\"Open In Colab\"/></a>"
      ]
    },
    {
      "cell_type": "markdown",
      "source": [
        "Instalando o SDK do google"
      ],
      "metadata": {
        "id": "rLfdylfDOQwo"
      }
    },
    {
      "cell_type": "code",
      "execution_count": null,
      "metadata": {
        "id": "YqGrdLoFKP7e"
      },
      "outputs": [],
      "source": [
        "!pip install -q -U google-generativeai"
      ]
    },
    {
      "cell_type": "code",
      "source": [
        "import google.generativeai as genai\n",
        "from google.colab import userdata\n",
        "api_key = userdata.get('SECRET+KEY')\n",
        "genai.configure(api_key=api_key)"
      ],
      "metadata": {
        "id": "Nepe5GaeOrrk"
      },
      "execution_count": 2,
      "outputs": []
    },
    {
      "cell_type": "markdown",
      "source": [
        "Listar os modelos disponíveis"
      ],
      "metadata": {
        "id": "53o24ASHQa0N"
      }
    },
    {
      "cell_type": "code",
      "source": [
        "for m in genai.list_models():\n",
        "  if 'generateContent' in m.supported_generation_methods:\n",
        "    print(m.name)"
      ],
      "metadata": {
        "colab": {
          "base_uri": "https://localhost:8080/",
          "height": 139
        },
        "id": "aK1Hx5r-Qgbw",
        "outputId": "70375439-972b-4ab8-8153-d4e86267f32f"
      },
      "execution_count": 3,
      "outputs": [
        {
          "output_type": "stream",
          "name": "stdout",
          "text": [
            "models/gemini-1.0-pro\n",
            "models/gemini-1.0-pro-001\n",
            "models/gemini-1.0-pro-latest\n",
            "models/gemini-1.0-pro-vision-latest\n",
            "models/gemini-1.5-pro-latest\n",
            "models/gemini-pro\n",
            "models/gemini-pro-vision\n"
          ]
        }
      ]
    },
    {
      "cell_type": "code",
      "source": [
        "generetion_config = {\n",
        "    \"candidate_count\":1,\n",
        "    \"temperature\":0.5,\n",
        "}"
      ],
      "metadata": {
        "id": "imUz8ZCSaInq"
      },
      "execution_count": 4,
      "outputs": []
    },
    {
      "cell_type": "code",
      "source": [
        "safety_settings = {\n",
        "    \"HARASSMENT\": \"BLOCK_NONE\",\n",
        "    \"HATE\":  \"BLOCK_NONE\",\n",
        "    \"SEXUAL\":  \"BLOCK_NONE\",\n",
        "    \"DANGEROUS\":  \"BLOCK_NONE\",\n",
        "}"
      ],
      "metadata": {
        "id": "tHxTL2RNcXCk"
      },
      "execution_count": 5,
      "outputs": []
    },
    {
      "cell_type": "markdown",
      "source": [
        "Inicializando o modelo"
      ],
      "metadata": {
        "id": "xwXPSrqxdWsO"
      }
    },
    {
      "cell_type": "code",
      "source": [
        "model = genai.GenerativeModel(model_name=\"gemini-1.0-pro\",\n",
        "                              generation_config=generetion_config,\n",
        "                              safety_settings=safety_settings)"
      ],
      "metadata": {
        "id": "s7B0h58Mdbps"
      },
      "execution_count": 6,
      "outputs": []
    },
    {
      "cell_type": "code",
      "source": [
        "response = model.generate_content(\"vamos aprender conteúdo sobre IA. Me dê sugestões\")\n",
        "print(response.text)"
      ],
      "metadata": {
        "colab": {
          "base_uri": "https://localhost:8080/",
          "height": 555
        },
        "id": "CUJXo59gFWHx",
        "outputId": "b6606d84-f55a-4989-f92d-cb80b9ff9463"
      },
      "execution_count": 7,
      "outputs": [
        {
          "output_type": "stream",
          "name": "stdout",
          "text": [
            "**Cursos Online**\n",
            "\n",
            "* [Introdução à Inteligência Artificial](https://www.coursera.org/learn/ai) (Coursera)\n",
            "* [Aprendizado de Máquina](https://www.coursera.org/specializations/machine-learning) (Coursera)\n",
            "* [Inteligência Artificial: A Próxima Revolução](https://www.edx.org/course/artificial-intelligence-the-next-revolution) (edX)\n",
            "* [Introdução à Inteligência Artificial](https://www.udacity.com/school-of-ai) (Udacity)\n",
            "* [Inteligência Artificial para Todos](https://www.ai-for-everyone.org/) (Google)\n",
            "\n",
            "**Livros**\n",
            "\n",
            "* [Inteligência Artificial: Uma Abordagem Moderna](https://www.amazon.com/Artificial-Intelligence-Modern-Approach-3rd/dp/0136042597) (Stuart Russell e Peter Norvig)\n",
            "* [Aprendizado de Máquina](https://www.amazon.com/Machine-Learning-Tom-Mitchell/dp/0071899182) (Tom Mitchell)\n",
            "* [Inteligência Artificial: Um Guia Prático](https://www.amazon.com/Artificial-Intelligence-Practical-Guide/dp/1108476968) (Ben Goertzel e Cassio Pennachin)\n",
            "* [Inteligência Artificial Essencial](https://www.amazon.com/Artificial-Intelligence-Essential-Concepts-Applications/dp/111949508X) (Ivan Bratko)\n",
            "* [Inteligência Artificial para Leigos](https://www.amazon.com/Artificial-Intelligence-Dummies-John-Paul-Mueller/dp/1119596239) (John Paul Mueller)\n",
            "\n",
            "**Podcasts**\n",
            "\n",
            "* [Lex Fridman Podcast](https://lexfridman.com/podcast/)\n",
            "* [The AI Podcast](https://www.theaipodcast.com/)\n",
            "* [Machine Learning Podcast](https://www.oreilly.com/library/view/machine-learning-podcast/9781492089224/)\n",
            "* [Artificial Intelligence Podcast](https://www.artificialintelligencepodcast.com/)\n",
            "* [Talking Robots](https://talkingrobots.libsyn.com/)\n",
            "\n",
            "**Conferências e Eventos**\n",
            "\n",
            "* [Conferência Internacional Conjunta sobre Inteligência Artificial (IJCAI)](https://ijcai.org/)\n",
            "* [Conferência sobre Sistemas de Processamento de Informação Neural (NeurIPS)](https://neurips.cc/)\n",
            "* [Conferência Internacional sobre Aprendizado de Máquina (ICML)](https://icml.cc/)\n",
            "* [Conferência Internacional sobre Visão Computacional (ICCV)](https://iccv2023.thecvf.com/)\n",
            "* [Conferência Internacional sobre Processamento de Linguagem Natural (ACL)](https://aclanthology.org/)\n"
          ]
        }
      ]
    },
    {
      "cell_type": "code",
      "source": [
        "chat = model.start_chat(history=[])\n",
        "prompt = input(\"Esperando prompt: \")\n",
        "while prompt != \"fim\":\n",
        "  response = chat.send_message(prompt)\n",
        "  print(\"resposta : \", response.text, \"/n\")\n",
        "  prompt = input(\"Esperando prompt: \")\n",
        ""
      ],
      "metadata": {
        "colab": {
          "base_uri": "https://localhost:8080/",
          "height": 69
        },
        "id": "Oq1vFik5IElp",
        "outputId": "d8ba2dd1-a241-49b3-f2ae-252232738885"
      },
      "execution_count": 8,
      "outputs": [
        {
          "name": "stdout",
          "output_type": "stream",
          "text": [
            "Esperando prompt: Qual o site que mostra o nível do Rio Guaiba?\n",
            "resposta :  Sistema de Monitoramento Hidrológico do Rio Guaíba: https://www.hidro.rs.gov.br/guaiba/ /n\n",
            "Esperando prompt: fim\n"
          ]
        }
      ]
    }
  ]
}